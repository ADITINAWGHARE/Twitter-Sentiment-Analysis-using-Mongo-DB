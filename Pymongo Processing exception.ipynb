{
 "cells": [
  {
   "cell_type": "code",
   "execution_count": 11,
   "metadata": {},
   "outputs": [
    {
     "name": "stdout",
     "output_type": "stream",
     "text": [
      "Collecting pymongo\n",
      "  Downloading pymongo-3.10.1-cp37-cp37m-win_amd64.whl (354 kB)\n",
      "Installing collected packages: pymongo\n",
      "Successfully installed pymongo-3.10.1\n",
      "Note: you may need to restart the kernel to use updated packages.\n"
     ]
    }
   ],
   "source": [
    "pip install pymongo"
   ]
  },
  {
   "cell_type": "code",
   "execution_count": 4,
   "metadata": {},
   "outputs": [],
   "source": [
    "import pymongo"
   ]
  },
  {
   "cell_type": "code",
   "execution_count": 5,
   "metadata": {},
   "outputs": [
    {
     "ename": "SyntaxError",
     "evalue": "invalid syntax (<ipython-input-5-055ae9720d60>, line 5)",
     "output_type": "error",
     "traceback": [
      "\u001b[1;36m  File \u001b[1;32m\"<ipython-input-5-055ae9720d60>\"\u001b[1;36m, line \u001b[1;32m5\u001b[0m\n\u001b[1;33m    except pymongo.errors.ConnectionFailure, e:\u001b[0m\n\u001b[1;37m                                           ^\u001b[0m\n\u001b[1;31mSyntaxError\u001b[0m\u001b[1;31m:\u001b[0m invalid syntax\n"
     ]
    }
   ],
   "source": [
    "\n",
    "# Connection to Mongo DB\n",
    "try:\n",
    "    conn=pymongo.MongoClient()\n",
    "    print (\"Connected successfully!!!\")\n",
    "except pymongo.errors.ConnectionFailure, e:\n",
    "   print (\"Could not connect to MongoDB: %s\")\n",
    "conn"
   ]
  },
  {
   "cell_type": "code",
   "execution_count": 6,
   "metadata": {},
   "outputs": [],
   "source": [
    "import sys\n",
    "import pymongo"
   ]
  },
  {
   "cell_type": "code",
   "execution_count": 7,
   "metadata": {},
   "outputs": [],
   "source": [
    "connection = pymongo.MongoClient(\"mongodb://localhost\")\n",
    "\n",
    "db = connection.test\n",
    "users = db.users"
   ]
  },
  {
   "cell_type": "code",
   "execution_count": 10,
   "metadata": {},
   "outputs": [
    {
     "name": "stdout",
     "output_type": "stream",
     "text": [
      "{'firstname': 'Andrew', 'lastname': 'Erlichson'}\n",
      "about to insert the document\n"
     ]
    }
   ],
   "source": [
    "doc = {'firstname':'Andrew', \n",
    "        'lastname':'Erlichson'}\n",
    "print (doc)\n",
    "print (\"about to insert the document\")"
   ]
  },
  {
   "cell_type": "code",
   "execution_count": 15,
   "metadata": {},
   "outputs": [
    {
     "name": "stdout",
     "output_type": "stream",
     "text": [
      "insert failed: localhost:27017: [WinError 10061] No connection could be made because the target machine actively refused it\n",
      "{'firstname': 'Andrew', 'lastname': 'Erlichson', '_id': ObjectId('5ec2b4bf5b5850bf0dc65afb')}\n"
     ]
    }
   ],
   "source": [
    "try:\n",
    "    users.insert_one(doc)\n",
    "except Exception as e:\n",
    "    print (\"insert failed:\", e)\n",
    "\n",
    "print (doc)"
   ]
  },
  {
   "cell_type": "code",
   "execution_count": 14,
   "metadata": {},
   "outputs": [
    {
     "name": "stdout",
     "output_type": "stream",
     "text": [
      "inserting again\n",
      "second insert failed: localhost:27017: [WinError 10061] No connection could be made because the target machine actively refused it\n",
      "{'firstname': 'Andrew', 'lastname': 'Erlichson', '_id': ObjectId('5ec2b4bf5b5850bf0dc65afb')}\n"
     ]
    }
   ],
   "source": [
    "print (\"inserting again\")\n",
    "\n",
    "try:\n",
    "    users.insert_one(doc)\n",
    "except Exception as e:\n",
    "    print (\"second insert failed:\", e)\n",
    "\n",
    "print (doc)"
   ]
  },
  {
   "cell_type": "code",
   "execution_count": null,
   "metadata": {},
   "outputs": [],
   "source": []
  }
 ],
 "metadata": {
  "kernelspec": {
   "display_name": "Python 3",
   "language": "python",
   "name": "python3"
  },
  "language_info": {
   "codemirror_mode": {
    "name": "ipython",
    "version": 3
   },
   "file_extension": ".py",
   "mimetype": "text/x-python",
   "name": "python",
   "nbconvert_exporter": "python",
   "pygments_lexer": "ipython3",
   "version": "3.7.6"
  }
 },
 "nbformat": 4,
 "nbformat_minor": 4
}
